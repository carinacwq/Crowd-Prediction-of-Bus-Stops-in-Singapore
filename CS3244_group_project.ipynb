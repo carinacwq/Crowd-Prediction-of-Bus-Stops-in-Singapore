{
  "cells": [
    {
      "cell_type": "code",
      "execution_count": 2,
      "metadata": {
        "id": "HTavD6H-yzRz"
      },
      "outputs": [],
      "source": [
        "# Libraries\n",
        "import requests\n",
        "import pandas as pd\n",
        "import numpy as np\n",
        "import seaborn as sns\n",
        "import matplotlib.pyplot as plt"
      ]
    },
    {
      "cell_type": "markdown",
      "metadata": {
        "id": "BgatFWZ9HLK3"
      },
      "source": [
        "# Data Collection"
      ]
    },
    {
      "cell_type": "markdown",
      "metadata": {
        "id": "dMGDELDw7CO8"
      },
      "source": [
        "## Web Scraping API for Passenger Volume by Bus Stops data: DO NOT RUN"
      ]
    },
    {
      "cell_type": "code",
      "execution_count": null,
      "metadata": {
        "id": "_etDp3xm3ZvC"
      },
      "outputs": [],
      "source": [
        "import requests\n",
        "import pandas as pd\n",
        "\n",
        "# Passenger volume: produces link to download csv\n",
        "base_url = \"http://datamall2.mytransport.sg/ltaodataservice\"\n",
        "endpoint = \"/PV/Bus\"\n",
        "resource_url = base_url + endpoint\n",
        "last_3_months = ['202402', '202401', '202312']\n",
        "for month in last_3_months:\n",
        "    query_params = {'Date': month}\n",
        "    # Request data from the server\n",
        "    res = requests.get(resource_url, headers={\"AccountKey\": \"7hrdcp4vQ0inFGn4IwWHQw==\", \"accept\": \"application/json\"}, params=query_params)\n",
        "    res_list = res.json()\n",
        "    print(res_list[1])\n",
        "\n",
        "  # Combining downloaded passenger volume data\n",
        "df1 = pd.read_csv(\"../data/transport_node_bus_202402.csv\")\n",
        "df2 = pd.read_csv(\"../data/transport_node_bus_202401.csv\")\n",
        "df3 = pd.read_csv(\"../data/transport_node_bus_202312.csv\")\n",
        "pv_df = pd.concat([df1, df2, df3])\n",
        "\n",
        "pv_df['PT_CODE'] = pv_df['PT_CODE'].apply(lambda x: '{:05d}'.format(x))\n",
        "\n",
        "#save as csv file\n",
        "pv_df.to_csv(\"pv.csv\", index=False)"
      ]
    },
    {
      "cell_type": "markdown",
      "metadata": {
        "id": "l3hY4wvge0C-"
      },
      "source": [
        "## Web Scraping API for Bus Stops location data: DO NOT RUN"
      ]
    },
    {
      "cell_type": "code",
      "execution_count": null,
      "metadata": {
        "id": "s9ma_Gl_CxA3"
      },
      "outputs": [],
      "source": [
        "# bus stops\n",
        "base_url = \"http://datamall2.mytransport.sg/ltaodataservice\"\n",
        "endpoint_url1 = \"/BusStops\"\n",
        "endpoint_url2 = \"/BusStops?$skip=500\"\n",
        "endpoint_url3 = \"/BusStops?$skip=1000\"\n",
        "endpoint_url4 = \"/BusStops?$skip=1500\"\n",
        "endpoint_url5 = \"/BusStops?$skip=2000\"\n",
        "endpoint_url6 = \"/BusStops?$skip=2500\"\n",
        "endpoint_url7 = \"/BusStops?$skip=3000\"\n",
        "endpoint_url8 = \"/BusStops?$skip=3500\"\n",
        "endpoint_url9 = \"/BusStops?$skip=4000\"\n",
        "endpoint_url10 = \"/BusStops?$skip=4500\"\n",
        "endpoint_url11 = \"/BusStops?$skip=5000\"\n",
        "\n",
        "endpoints = [endpoint_url1, endpoint_url2, endpoint_url3, endpoint_url4, endpoint_url5, endpoint_url6, endpoint_url7, endpoint_url8, endpoint_url9, endpoint_url10, endpoint_url11]\n"
      ]
    },
    {
      "cell_type": "code",
      "execution_count": null,
      "metadata": {
        "colab": {
          "base_uri": "https://localhost:8080/"
        },
        "id": "OoC6oOGrIQfW",
        "outputId": "b10a9922-4a50-4aee-8fbd-63568ce4672c"
      },
      "outputs": [
        {
          "name": "stdout",
          "output_type": "stream",
          "text": [
            "     BusStopCode           RoadName             Description  Latitude  \\\n",
            "0          01012        Victoria St     Hotel Grand Pacific  1.296848   \n",
            "1          01013        Victoria St         St. Joseph's Ch  1.297710   \n",
            "2          01019        Victoria St         Bras Basah Cplx  1.296990   \n",
            "3          01029      Nth Bridge Rd            Opp Natl Lib  1.296673   \n",
            "4          01039      Nth Bridge Rd              Bugis Cube  1.298208   \n",
            "...          ...                ...                     ...       ...   \n",
            "5101       99139  Changi Village Rd                   Blk 5  1.388195   \n",
            "5102       99161          Nicoll Dr   Bef Changi Beach CP 3  1.390262   \n",
            "5103       99171          Nicoll Dr       Changi Beach CP 2  1.391128   \n",
            "5104       99181      Telok Paku Rd  Bef S'pore Aviation Ac  1.387754   \n",
            "5105       99189      Telok Paku Rd      S'pore Aviation Ac  1.388414   \n",
            "\n",
            "       Longitude  \n",
            "0     103.852536  \n",
            "1     103.853225  \n",
            "2     103.853022  \n",
            "3     103.854414  \n",
            "4     103.855491  \n",
            "...          ...  \n",
            "5101  103.987234  \n",
            "5102  103.992957  \n",
            "5103  103.991021  \n",
            "5104  103.988503  \n",
            "5105  103.989716  \n",
            "\n",
            "[5106 rows x 5 columns]\n"
          ]
        }
      ],
      "source": [
        "busstops = []\n",
        "\n",
        "for endpoint in endpoints:\n",
        "    resource_url = base_url + endpoint\n",
        "    # Request data from the server\n",
        "    res = requests.get(resource_url, headers={\"AccountKey\": \"7hrdcp4vQ0inFGn4IwWHQw==\", \"accept\": \"application/json\"})\n",
        "    res_list = res.json()\n",
        "    df = pd.DataFrame(res_list['value'])\n",
        "    busstops.append(df)\n",
        "\n",
        "busstops_df = pd.concat(busstops, ignore_index=True)\n",
        "\n",
        "print(busstops_df)"
      ]
    },
    {
      "cell_type": "markdown",
      "metadata": {
        "id": "OyIzLL7DHTvT"
      },
      "source": [
        "# Data Pre Processing"
      ]
    },
    {
      "cell_type": "code",
      "execution_count": 3,
      "metadata": {
        "colab": {
          "base_uri": "https://localhost:8080/"
        },
        "id": "FYznNBTb_p67",
        "outputId": "8536c5c1-1804-48ed-e846-0d7c6ca4171d"
      },
      "outputs": [
        {
          "name": "stdout",
          "output_type": "stream",
          "text": [
            "  YEAR_MONTH          DAY_TYPE  TIME_PER_HOUR PT_TYPE  PT_CODE  \\\n",
            "0    2024-02  WEEKENDS/HOLIDAY           17.0     BUS    45379   \n",
            "1    2024-02           WEEKDAY           17.0     BUS    45379   \n",
            "2    2024-02           WEEKDAY           13.0     BUS    80051   \n",
            "3    2024-02  WEEKENDS/HOLIDAY           13.0     BUS    80051   \n",
            "4    2024-02           WEEKDAY           13.0     BUS     5319   \n",
            "\n",
            "   TOTAL_TAP_IN_VOLUME  TOTAL_TAP_OUT_VOLUME  \n",
            "0                  190                   120  \n",
            "1                  442                   470  \n",
            "2                 2873                  2873  \n",
            "3                 1473                  1403  \n",
            "4                  109                   540  \n",
            "<class 'pandas.core.frame.DataFrame'>\n",
            "RangeIndex: 597316 entries, 0 to 597315\n",
            "Data columns (total 7 columns):\n",
            " #   Column                Non-Null Count   Dtype  \n",
            "---  ------                --------------   -----  \n",
            " 0   YEAR_MONTH            597316 non-null  object \n",
            " 1   DAY_TYPE              597316 non-null  object \n",
            " 2   TIME_PER_HOUR         597293 non-null  float64\n",
            " 3   PT_TYPE               597316 non-null  object \n",
            " 4   PT_CODE               597316 non-null  int64  \n",
            " 5   TOTAL_TAP_IN_VOLUME   597316 non-null  int64  \n",
            " 6   TOTAL_TAP_OUT_VOLUME  597316 non-null  int64  \n",
            "dtypes: float64(1), int64(3), object(3)\n",
            "memory usage: 31.9+ MB\n",
            "None\n",
            "   BusStopCode       RoadName          Description  Latitude   Longitude\n",
            "0         1012    Victoria St  Hotel Grand Pacific  1.296848  103.852536\n",
            "1         1013    Victoria St      St. Joseph's Ch  1.297710  103.853225\n",
            "2         1019    Victoria St      Bras Basah Cplx  1.296990  103.853022\n",
            "3         1029  Nth Bridge Rd         Opp Natl Lib  1.296673  103.854414\n",
            "4         1039  Nth Bridge Rd           Bugis Cube  1.298208  103.855491\n",
            "<class 'pandas.core.frame.DataFrame'>\n",
            "RangeIndex: 5106 entries, 0 to 5105\n",
            "Data columns (total 5 columns):\n",
            " #   Column       Non-Null Count  Dtype  \n",
            "---  ------       --------------  -----  \n",
            " 0   BusStopCode  5106 non-null   int64  \n",
            " 1   RoadName     5106 non-null   object \n",
            " 2   Description  5106 non-null   object \n",
            " 3   Latitude     5106 non-null   float64\n",
            " 4   Longitude    5106 non-null   float64\n",
            "dtypes: float64(2), int64(1), object(2)\n",
            "memory usage: 199.6+ KB\n",
            "None\n",
            "  YEAR_MONTH          DAY_TYPE  TIME_PER_HOUR PT_TYPE PT_CODE  \\\n",
            "0    2024-02  WEEKENDS/HOLIDAY           17.0     BUS   45379   \n",
            "1    2024-02           WEEKDAY           17.0     BUS   45379   \n",
            "2    2024-02           WEEKDAY           13.0     BUS   80051   \n",
            "3    2024-02  WEEKENDS/HOLIDAY           13.0     BUS   80051   \n",
            "4    2024-02           WEEKDAY           13.0     BUS   05319   \n",
            "5    2024-02  WEEKENDS/HOLIDAY           13.0     BUS   05319   \n",
            "6    2024-02           WEEKDAY            7.0     BUS   46219   \n",
            "7    2024-02  WEEKENDS/HOLIDAY            7.0     BUS   46219   \n",
            "8    2024-02           WEEKDAY            1.0     BUS   64397   \n",
            "9    2024-02  WEEKENDS/HOLIDAY            1.0     BUS   64397   \n",
            "\n",
            "   TOTAL_TAP_IN_VOLUME  TOTAL_TAP_OUT_VOLUME BusStopCode             RoadName  \\\n",
            "0                  190                   120       45379  Choa Chu Kang Nth 6   \n",
            "1                  442                   470       45379  Choa Chu Kang Nth 6   \n",
            "2                 2873                  2873       80051             Sims Ave   \n",
            "3                 1473                  1403       80051             Sims Ave   \n",
            "4                  109                   540       05319            Church St   \n",
            "5                   12                    91       05319            Church St   \n",
            "6                21428                  1190       46219          Johor Bahru   \n",
            "7                 5107                   361       46219          Johor Bahru   \n",
            "8                    4                    26       64397       Hougang Ave 10   \n",
            "9                    2                    13       64397       Hougang Ave 10   \n",
            "\n",
            "           Description  Latitude   Longitude  \n",
            "0  Yew Mei Green Condo  1.394694  103.751873  \n",
            "1  Yew Mei Green Condo  1.394694  103.751873  \n",
            "2    Aft Lor 1 Geylang  1.312515  103.873262  \n",
            "3    Aft Lor 1 Geylang  1.312515  103.873262  \n",
            "4             OCBC Ctr  1.284437  103.849114  \n",
            "5             OCBC Ctr  1.284437  103.849114  \n",
            "6  Johor Bahru Checkpt  1.465427  103.768267  \n",
            "7  Johor Bahru Checkpt  1.465427  103.768267  \n",
            "8            Block 513  1.371948  103.890003  \n",
            "9            Block 513  1.371948  103.890003  \n",
            "<class 'pandas.core.frame.DataFrame'>\n",
            "RangeIndex: 597316 entries, 0 to 597315\n",
            "Data columns (total 12 columns):\n",
            " #   Column                Non-Null Count   Dtype  \n",
            "---  ------                --------------   -----  \n",
            " 0   YEAR_MONTH            597316 non-null  object \n",
            " 1   DAY_TYPE              597316 non-null  object \n",
            " 2   TIME_PER_HOUR         597293 non-null  float64\n",
            " 3   PT_TYPE               597316 non-null  object \n",
            " 4   PT_CODE               597316 non-null  object \n",
            " 5   TOTAL_TAP_IN_VOLUME   597316 non-null  int64  \n",
            " 6   TOTAL_TAP_OUT_VOLUME  597316 non-null  int64  \n",
            " 7   BusStopCode           597276 non-null  object \n",
            " 8   RoadName              597276 non-null  object \n",
            " 9   Description           597276 non-null  object \n",
            " 10  Latitude              597276 non-null  float64\n",
            " 11  Longitude             597276 non-null  float64\n",
            "dtypes: float64(3), int64(2), object(7)\n",
            "memory usage: 54.7+ MB\n",
            "None\n"
          ]
        }
      ],
      "source": [
        "#load data locally\n",
        "pv_df = pd.read_csv(\"../data/pv.csv\")\n",
        "busstops_df = pd.read_csv(\"../data/busstops.csv\")\n",
        "print(pv_df.head(5))\n",
        "print(pv_df.info())\n",
        "print(busstops_df.head(5))\n",
        "print(busstops_df.info())\n",
        "\n",
        "# Join both df\n",
        "pv_df['PT_CODE'] = pv_df['PT_CODE'].apply(lambda x: '{:05d}'.format(x))\n",
        "busstops_df['BusStopCode'] = busstops_df['BusStopCode'].apply(lambda x: '{:05d}'.format(x))\n",
        "merged_df = pv_df.merge(busstops_df, left_on='PT_CODE', right_on='BusStopCode', how='left')\n",
        "print(merged_df.head(10))\n",
        "print(merged_df.info())\n"
      ]
    },
    {
      "cell_type": "markdown",
      "metadata": {},
      "source": [
        "## Remove null values\n",
        "Upon research, PT_CODE 65139 has been removed since Dec '23 due to route amendment"
      ]
    },
    {
      "cell_type": "code",
      "execution_count": 4,
      "metadata": {
        "colab": {
          "base_uri": "https://localhost:8080/"
        },
        "id": "HPp5Qcrtuiir",
        "outputId": "56b0eb74-078c-43bb-9b88-80a838d2575f"
      },
      "outputs": [
        {
          "name": "stdout",
          "output_type": "stream",
          "text": [
            "<class 'pandas.core.frame.DataFrame'>\n",
            "Index: 597253 entries, 0 to 597315\n",
            "Data columns (total 12 columns):\n",
            " #   Column                Non-Null Count   Dtype  \n",
            "---  ------                --------------   -----  \n",
            " 0   YEAR_MONTH            597253 non-null  object \n",
            " 1   DAY_TYPE              597253 non-null  object \n",
            " 2   TIME_PER_HOUR         597253 non-null  float64\n",
            " 3   PT_TYPE               597253 non-null  object \n",
            " 4   PT_CODE               597253 non-null  object \n",
            " 5   TOTAL_TAP_IN_VOLUME   597253 non-null  int64  \n",
            " 6   TOTAL_TAP_OUT_VOLUME  597253 non-null  int64  \n",
            " 7   BusStopCode           597253 non-null  object \n",
            " 8   RoadName              597253 non-null  object \n",
            " 9   Description           597253 non-null  object \n",
            " 10  Latitude              597253 non-null  float64\n",
            " 11  Longitude             597253 non-null  float64\n",
            "dtypes: float64(3), int64(2), object(7)\n",
            "memory usage: 59.2+ MB\n",
            "None\n"
          ]
        }
      ],
      "source": [
        "# Dealing with Null\n",
        "null_df=merged_df[merged_df.isnull().any(axis=1)]\n",
        "# print(null_df)\n",
        "\n",
        "# Remove rows with PT_CODE 65139 and assign results back to original df\n",
        "merged_df = merged_df.drop(merged_df[merged_df['PT_CODE'] == '65139'].index)\n",
        "# Drop rest of null values\n",
        "merged_df = merged_df.dropna()\n",
        "print(merged_df.info())"
      ]
    },
    {
      "cell_type": "markdown",
      "metadata": {},
      "source": [
        "## Further Cleaning"
      ]
    },
    {
      "cell_type": "code",
      "execution_count": 5,
      "metadata": {},
      "outputs": [
        {
          "data": {
            "text/html": [
              "<div>\n",
              "<style scoped>\n",
              "    .dataframe tbody tr th:only-of-type {\n",
              "        vertical-align: middle;\n",
              "    }\n",
              "\n",
              "    .dataframe tbody tr th {\n",
              "        vertical-align: top;\n",
              "    }\n",
              "\n",
              "    .dataframe thead th {\n",
              "        text-align: right;\n",
              "    }\n",
              "</style>\n",
              "<table border=\"1\" class=\"dataframe\">\n",
              "  <thead>\n",
              "    <tr style=\"text-align: right;\">\n",
              "      <th></th>\n",
              "      <th>YEAR_MONTH</th>\n",
              "      <th>DAY_TYPE</th>\n",
              "      <th>TIME_PER_HOUR</th>\n",
              "      <th>PT_TYPE</th>\n",
              "      <th>PT_CODE</th>\n",
              "      <th>TOTAL_TAP_IN_VOLUME</th>\n",
              "      <th>TOTAL_TAP_OUT_VOLUME</th>\n",
              "      <th>RoadName</th>\n",
              "      <th>Description</th>\n",
              "      <th>Latitude</th>\n",
              "      <th>Longitude</th>\n",
              "      <th>avg_volume</th>\n",
              "    </tr>\n",
              "  </thead>\n",
              "  <tbody>\n",
              "    <tr>\n",
              "      <th>0</th>\n",
              "      <td>2024-02</td>\n",
              "      <td>WEEKENDS/HOLIDAY</td>\n",
              "      <td>17</td>\n",
              "      <td>BUS</td>\n",
              "      <td>45379</td>\n",
              "      <td>190</td>\n",
              "      <td>120</td>\n",
              "      <td>Choa Chu Kang Nth 6</td>\n",
              "      <td>Yew Mei Green Condo</td>\n",
              "      <td>1.394694</td>\n",
              "      <td>103.751873</td>\n",
              "      <td>155.0</td>\n",
              "    </tr>\n",
              "    <tr>\n",
              "      <th>1</th>\n",
              "      <td>2024-02</td>\n",
              "      <td>WEEKDAY</td>\n",
              "      <td>17</td>\n",
              "      <td>BUS</td>\n",
              "      <td>45379</td>\n",
              "      <td>442</td>\n",
              "      <td>470</td>\n",
              "      <td>Choa Chu Kang Nth 6</td>\n",
              "      <td>Yew Mei Green Condo</td>\n",
              "      <td>1.394694</td>\n",
              "      <td>103.751873</td>\n",
              "      <td>456.0</td>\n",
              "    </tr>\n",
              "    <tr>\n",
              "      <th>2</th>\n",
              "      <td>2024-02</td>\n",
              "      <td>WEEKDAY</td>\n",
              "      <td>13</td>\n",
              "      <td>BUS</td>\n",
              "      <td>80051</td>\n",
              "      <td>2873</td>\n",
              "      <td>2873</td>\n",
              "      <td>Sims Ave</td>\n",
              "      <td>Aft Lor 1 Geylang</td>\n",
              "      <td>1.312515</td>\n",
              "      <td>103.873262</td>\n",
              "      <td>2873.0</td>\n",
              "    </tr>\n",
              "    <tr>\n",
              "      <th>3</th>\n",
              "      <td>2024-02</td>\n",
              "      <td>WEEKENDS/HOLIDAY</td>\n",
              "      <td>13</td>\n",
              "      <td>BUS</td>\n",
              "      <td>80051</td>\n",
              "      <td>1473</td>\n",
              "      <td>1403</td>\n",
              "      <td>Sims Ave</td>\n",
              "      <td>Aft Lor 1 Geylang</td>\n",
              "      <td>1.312515</td>\n",
              "      <td>103.873262</td>\n",
              "      <td>1438.0</td>\n",
              "    </tr>\n",
              "    <tr>\n",
              "      <th>4</th>\n",
              "      <td>2024-02</td>\n",
              "      <td>WEEKDAY</td>\n",
              "      <td>13</td>\n",
              "      <td>BUS</td>\n",
              "      <td>05319</td>\n",
              "      <td>109</td>\n",
              "      <td>540</td>\n",
              "      <td>Church St</td>\n",
              "      <td>OCBC Ctr</td>\n",
              "      <td>1.284437</td>\n",
              "      <td>103.849114</td>\n",
              "      <td>324.5</td>\n",
              "    </tr>\n",
              "  </tbody>\n",
              "</table>\n",
              "</div>"
            ],
            "text/plain": [
              "  YEAR_MONTH          DAY_TYPE  TIME_PER_HOUR PT_TYPE PT_CODE  \\\n",
              "0    2024-02  WEEKENDS/HOLIDAY             17     BUS   45379   \n",
              "1    2024-02           WEEKDAY             17     BUS   45379   \n",
              "2    2024-02           WEEKDAY             13     BUS   80051   \n",
              "3    2024-02  WEEKENDS/HOLIDAY             13     BUS   80051   \n",
              "4    2024-02           WEEKDAY             13     BUS   05319   \n",
              "\n",
              "   TOTAL_TAP_IN_VOLUME  TOTAL_TAP_OUT_VOLUME             RoadName  \\\n",
              "0                  190                   120  Choa Chu Kang Nth 6   \n",
              "1                  442                   470  Choa Chu Kang Nth 6   \n",
              "2                 2873                  2873             Sims Ave   \n",
              "3                 1473                  1403             Sims Ave   \n",
              "4                  109                   540            Church St   \n",
              "\n",
              "           Description  Latitude   Longitude  avg_volume  \n",
              "0  Yew Mei Green Condo  1.394694  103.751873       155.0  \n",
              "1  Yew Mei Green Condo  1.394694  103.751873       456.0  \n",
              "2    Aft Lor 1 Geylang  1.312515  103.873262      2873.0  \n",
              "3    Aft Lor 1 Geylang  1.312515  103.873262      1438.0  \n",
              "4             OCBC Ctr  1.284437  103.849114       324.5  "
            ]
          },
          "execution_count": 5,
          "metadata": {},
          "output_type": "execute_result"
        }
      ],
      "source": [
        "# Convert TIME_PER_HOUR to int\n",
        "merged_df['TIME_PER_HOUR'] = merged_df['TIME_PER_HOUR'].astype(int)\n",
        "# Drop duplicate column\n",
        "merged_df = merged_df.drop(columns=['BusStopCode'])\n",
        "\n",
        "# Create a new column for average passenger volume\n",
        "merged_df['avg_volume'] = (merged_df['TOTAL_TAP_IN_VOLUME'] + merged_df['TOTAL_TAP_OUT_VOLUME']) / 2\n",
        "merged_df.head()"
      ]
    },
    {
      "cell_type": "markdown",
      "metadata": {},
      "source": [
        "# Feature Engineering"
      ]
    },
    {
      "cell_type": "markdown",
      "metadata": {},
      "source": [
        "## One-Hot Encoding to encode categorical features - Road Names, Day Type"
      ]
    },
    {
      "cell_type": "code",
      "execution_count": 6,
      "metadata": {},
      "outputs": [
        {
          "name": "stdout",
          "output_type": "stream",
          "text": [
            "<class 'pandas.core.frame.DataFrame'>\n",
            "Index: 597253 entries, 0 to 597315\n",
            "Columns: 845 entries, TIME_PER_HOUR to RoadName_Zion Rd\n",
            "dtypes: float64(844), int32(1)\n",
            "memory usage: 3.8 GB\n"
          ]
        },
        {
          "data": {
            "text/html": [
              "<div>\n",
              "<style scoped>\n",
              "    .dataframe tbody tr th:only-of-type {\n",
              "        vertical-align: middle;\n",
              "    }\n",
              "\n",
              "    .dataframe tbody tr th {\n",
              "        vertical-align: top;\n",
              "    }\n",
              "\n",
              "    .dataframe thead th {\n",
              "        text-align: right;\n",
              "    }\n",
              "</style>\n",
              "<table border=\"1\" class=\"dataframe\">\n",
              "  <thead>\n",
              "    <tr style=\"text-align: right;\">\n",
              "      <th></th>\n",
              "      <th>TIME_PER_HOUR</th>\n",
              "      <th>DAY_TYPE_WEEKDAY</th>\n",
              "      <th>DAY_TYPE_WEEKENDS/HOLIDAY</th>\n",
              "      <th>RoadName_AYE</th>\n",
              "      <th>RoadName_Adam Rd</th>\n",
              "      <th>RoadName_Admiralty Dr</th>\n",
              "      <th>RoadName_Admiralty Link</th>\n",
              "      <th>RoadName_Admiralty Rd</th>\n",
              "      <th>RoadName_Admiralty Rd East</th>\n",
              "      <th>RoadName_Admiralty Rd West</th>\n",
              "      <th>...</th>\n",
              "      <th>RoadName_Yishun Ring Rd</th>\n",
              "      <th>RoadName_Yishun St 31</th>\n",
              "      <th>RoadName_Yishun St 41</th>\n",
              "      <th>RoadName_Yishun St 42</th>\n",
              "      <th>RoadName_Yishun St 61</th>\n",
              "      <th>RoadName_Yishun St 71</th>\n",
              "      <th>RoadName_Yishun St 81</th>\n",
              "      <th>RoadName_Yuan Ching Rd</th>\n",
              "      <th>RoadName_Yung Ho Rd</th>\n",
              "      <th>RoadName_Zion Rd</th>\n",
              "    </tr>\n",
              "  </thead>\n",
              "  <tbody>\n",
              "    <tr>\n",
              "      <th>0</th>\n",
              "      <td>17</td>\n",
              "      <td>0.0</td>\n",
              "      <td>1.0</td>\n",
              "      <td>0.0</td>\n",
              "      <td>0.0</td>\n",
              "      <td>0.0</td>\n",
              "      <td>0.0</td>\n",
              "      <td>0.0</td>\n",
              "      <td>0.0</td>\n",
              "      <td>0.0</td>\n",
              "      <td>...</td>\n",
              "      <td>0.0</td>\n",
              "      <td>0.0</td>\n",
              "      <td>0.0</td>\n",
              "      <td>0.0</td>\n",
              "      <td>0.0</td>\n",
              "      <td>0.0</td>\n",
              "      <td>0.0</td>\n",
              "      <td>0.0</td>\n",
              "      <td>0.0</td>\n",
              "      <td>0.0</td>\n",
              "    </tr>\n",
              "    <tr>\n",
              "      <th>1</th>\n",
              "      <td>17</td>\n",
              "      <td>1.0</td>\n",
              "      <td>0.0</td>\n",
              "      <td>0.0</td>\n",
              "      <td>0.0</td>\n",
              "      <td>0.0</td>\n",
              "      <td>0.0</td>\n",
              "      <td>0.0</td>\n",
              "      <td>0.0</td>\n",
              "      <td>0.0</td>\n",
              "      <td>...</td>\n",
              "      <td>0.0</td>\n",
              "      <td>0.0</td>\n",
              "      <td>0.0</td>\n",
              "      <td>0.0</td>\n",
              "      <td>0.0</td>\n",
              "      <td>0.0</td>\n",
              "      <td>0.0</td>\n",
              "      <td>0.0</td>\n",
              "      <td>0.0</td>\n",
              "      <td>0.0</td>\n",
              "    </tr>\n",
              "    <tr>\n",
              "      <th>2</th>\n",
              "      <td>13</td>\n",
              "      <td>1.0</td>\n",
              "      <td>0.0</td>\n",
              "      <td>0.0</td>\n",
              "      <td>0.0</td>\n",
              "      <td>0.0</td>\n",
              "      <td>0.0</td>\n",
              "      <td>0.0</td>\n",
              "      <td>0.0</td>\n",
              "      <td>0.0</td>\n",
              "      <td>...</td>\n",
              "      <td>0.0</td>\n",
              "      <td>0.0</td>\n",
              "      <td>0.0</td>\n",
              "      <td>0.0</td>\n",
              "      <td>0.0</td>\n",
              "      <td>0.0</td>\n",
              "      <td>0.0</td>\n",
              "      <td>0.0</td>\n",
              "      <td>0.0</td>\n",
              "      <td>0.0</td>\n",
              "    </tr>\n",
              "    <tr>\n",
              "      <th>3</th>\n",
              "      <td>13</td>\n",
              "      <td>0.0</td>\n",
              "      <td>1.0</td>\n",
              "      <td>0.0</td>\n",
              "      <td>0.0</td>\n",
              "      <td>0.0</td>\n",
              "      <td>0.0</td>\n",
              "      <td>0.0</td>\n",
              "      <td>0.0</td>\n",
              "      <td>0.0</td>\n",
              "      <td>...</td>\n",
              "      <td>0.0</td>\n",
              "      <td>0.0</td>\n",
              "      <td>0.0</td>\n",
              "      <td>0.0</td>\n",
              "      <td>0.0</td>\n",
              "      <td>0.0</td>\n",
              "      <td>0.0</td>\n",
              "      <td>0.0</td>\n",
              "      <td>0.0</td>\n",
              "      <td>0.0</td>\n",
              "    </tr>\n",
              "    <tr>\n",
              "      <th>4</th>\n",
              "      <td>13</td>\n",
              "      <td>1.0</td>\n",
              "      <td>0.0</td>\n",
              "      <td>0.0</td>\n",
              "      <td>0.0</td>\n",
              "      <td>0.0</td>\n",
              "      <td>0.0</td>\n",
              "      <td>0.0</td>\n",
              "      <td>0.0</td>\n",
              "      <td>0.0</td>\n",
              "      <td>...</td>\n",
              "      <td>0.0</td>\n",
              "      <td>0.0</td>\n",
              "      <td>0.0</td>\n",
              "      <td>0.0</td>\n",
              "      <td>0.0</td>\n",
              "      <td>0.0</td>\n",
              "      <td>0.0</td>\n",
              "      <td>0.0</td>\n",
              "      <td>0.0</td>\n",
              "      <td>0.0</td>\n",
              "    </tr>\n",
              "  </tbody>\n",
              "</table>\n",
              "<p>5 rows × 845 columns</p>\n",
              "</div>"
            ],
            "text/plain": [
              "   TIME_PER_HOUR  DAY_TYPE_WEEKDAY  DAY_TYPE_WEEKENDS/HOLIDAY  RoadName_AYE  \\\n",
              "0             17               0.0                        1.0           0.0   \n",
              "1             17               1.0                        0.0           0.0   \n",
              "2             13               1.0                        0.0           0.0   \n",
              "3             13               0.0                        1.0           0.0   \n",
              "4             13               1.0                        0.0           0.0   \n",
              "\n",
              "   RoadName_Adam Rd  RoadName_Admiralty Dr  RoadName_Admiralty Link  \\\n",
              "0               0.0                    0.0                      0.0   \n",
              "1               0.0                    0.0                      0.0   \n",
              "2               0.0                    0.0                      0.0   \n",
              "3               0.0                    0.0                      0.0   \n",
              "4               0.0                    0.0                      0.0   \n",
              "\n",
              "   RoadName_Admiralty Rd  RoadName_Admiralty Rd East  \\\n",
              "0                    0.0                         0.0   \n",
              "1                    0.0                         0.0   \n",
              "2                    0.0                         0.0   \n",
              "3                    0.0                         0.0   \n",
              "4                    0.0                         0.0   \n",
              "\n",
              "   RoadName_Admiralty Rd West  ...  RoadName_Yishun Ring Rd  \\\n",
              "0                         0.0  ...                      0.0   \n",
              "1                         0.0  ...                      0.0   \n",
              "2                         0.0  ...                      0.0   \n",
              "3                         0.0  ...                      0.0   \n",
              "4                         0.0  ...                      0.0   \n",
              "\n",
              "   RoadName_Yishun St 31  RoadName_Yishun St 41  RoadName_Yishun St 42  \\\n",
              "0                    0.0                    0.0                    0.0   \n",
              "1                    0.0                    0.0                    0.0   \n",
              "2                    0.0                    0.0                    0.0   \n",
              "3                    0.0                    0.0                    0.0   \n",
              "4                    0.0                    0.0                    0.0   \n",
              "\n",
              "   RoadName_Yishun St 61  RoadName_Yishun St 71  RoadName_Yishun St 81  \\\n",
              "0                    0.0                    0.0                    0.0   \n",
              "1                    0.0                    0.0                    0.0   \n",
              "2                    0.0                    0.0                    0.0   \n",
              "3                    0.0                    0.0                    0.0   \n",
              "4                    0.0                    0.0                    0.0   \n",
              "\n",
              "   RoadName_Yuan Ching Rd  RoadName_Yung Ho Rd  RoadName_Zion Rd  \n",
              "0                     0.0                  0.0               0.0  \n",
              "1                     0.0                  0.0               0.0  \n",
              "2                     0.0                  0.0               0.0  \n",
              "3                     0.0                  0.0               0.0  \n",
              "4                     0.0                  0.0               0.0  \n",
              "\n",
              "[5 rows x 845 columns]"
            ]
          },
          "execution_count": 6,
          "metadata": {},
          "output_type": "execute_result"
        }
      ],
      "source": [
        "# Define features and target variable\n",
        "X = merged_df[['DAY_TYPE', 'TIME_PER_HOUR', 'RoadName']]\n",
        "y = merged_df['avg_volume']\n",
        "\n",
        "# Perform one-hot encoding for categorical features\n",
        "cat_features = ['DAY_TYPE', 'RoadName']\n",
        "X_encoded = pd.get_dummies(X, columns=cat_features, dtype=float)\n",
        "X_encoded.info()\n",
        "X_encoded.head()\n"
      ]
    },
    {
      "cell_type": "markdown",
      "metadata": {},
      "source": [
        "## Split train and test sets"
      ]
    },
    {
      "cell_type": "code",
      "execution_count": 7,
      "metadata": {},
      "outputs": [
        {
          "name": "stdout",
          "output_type": "stream",
          "text": [
            "<class 'pandas.core.frame.DataFrame'>\n",
            "Index: 477802 entries, 129842 to 121966\n",
            "Columns: 845 entries, TIME_PER_HOUR to RoadName_Zion Rd\n",
            "dtypes: float64(844), int32(1)\n",
            "memory usage: 3.0 GB\n",
            "<class 'pandas.core.series.Series'>\n",
            "Index: 477802 entries, 129842 to 121966\n",
            "Series name: avg_volume\n",
            "Non-Null Count   Dtype  \n",
            "--------------   -----  \n",
            "477802 non-null  float64\n",
            "dtypes: float64(1)\n",
            "memory usage: 7.3 MB\n"
          ]
        }
      ],
      "source": [
        "from sklearn.model_selection import train_test_split\n",
        "# Split data into train and test sets\n",
        "X_train, X_test, y_train, y_test = train_test_split(X_encoded, y, test_size=0.2, random_state=42)\n",
        "X_train.info()\n",
        "y_train.info()"
      ]
    },
    {
      "cell_type": "markdown",
      "metadata": {},
      "source": [
        "# Exploratory Data Analysis"
      ]
    },
    {
      "cell_type": "markdown",
      "metadata": {},
      "source": [
        "## Principal Component Analysis (PCA)"
      ]
    },
    {
      "cell_type": "code",
      "execution_count": 8,
      "metadata": {},
      "outputs": [
        {
          "name": "stdout",
          "output_type": "stream",
          "text": [
            "Variance explained by each principal component: [0.00236707 0.00118771]\n"
          ]
        },
        {
          "data": {
            "image/png": "[encoded data removed]",
            "text/plain": [
              "<Figure size 1000x600 with 2 Axes>"
            ]
          },
          "metadata": {},
          "output_type": "display_data"
        }
      ],
      "source": [
        "from sklearn.decomposition import PCA\n",
        "from sklearn.preprocessing import StandardScaler\n",
        "\n",
        "# Standardize the features\n",
        "scaler = StandardScaler()\n",
        "X_scaled = scaler.fit_transform(X_encoded)\n",
        "\n",
        "# Perform PCA\n",
        "pca = PCA(n_components=2)  # Specify to keep 2 components\n",
        "X_pca = pca.fit_transform(X_scaled)\n",
        "\n",
        "# Variance explained by each principal component\n",
        "explained_variance = pca.explained_variance_ratio_\n",
        "print(\"Variance explained by each principal component:\", explained_variance)\n",
        "\n",
        "# Create a DataFrame with PCA results\n",
        "pca_df = pd.DataFrame(data=X_pca, columns=['PC1', 'PC2'])\n",
        "\n",
        "# Concatenate PCA results with the original DataFrame\n",
        "final_df = pd.concat([pca_df, merged_df[['avg_volume']]], axis=1)\n",
        "\n",
        "# Plot PCA results\n",
        "plt.figure(figsize=(10, 6))\n",
        "plt.scatter(final_df['PC1'], final_df['PC2'], c=final_df['avg_volume'], cmap='viridis')\n",
        "plt.xlabel('Principal Component 1')\n",
        "plt.ylabel('Principal Component 2')\n",
        "plt.title('PCA Analysis of Passenger Volume at Bus Stops')\n",
        "plt.colorbar(label='Average Passenger Volume')\n",
        "plt.show()\n"
      ]
    },
    {
      "cell_type": "markdown",
      "metadata": {},
      "source": [
        "## Distribution of Average Passenger Volume based on Hour of the Day"
      ]
    },
    {
      "cell_type": "code",
      "execution_count": 9,
      "metadata": {},
      "outputs": [
        {
          "data": {
            "image/png": "[encoded data removed]",
            "text/plain": [
              "<Figure size 1000x600 with 1 Axes>"
            ]
          },
          "metadata": {},
          "output_type": "display_data"
        }
      ],
      "source": [
        "# Plot the distribution of average passenger volume based on hour of the day\n",
        "plt.figure(figsize=(10, 6))\n",
        "sns.boxplot(x='TIME_PER_HOUR', y='avg_volume', hue='DAY_TYPE', data=merged_df, showfliers=False)\n",
        "plt.title('Distribution of Average Passenger Volume Based on Hour of the Day')\n",
        "plt.xlabel('Hour of the Day')\n",
        "plt.ylabel('Average Passenger Volume')\n",
        "plt.show()"
      ]
    },
    {
      "cell_type": "markdown",
      "metadata": {},
      "source": [
        "# Model: Implement  k -Nearest Neighbor (kNN)"
      ]
    },
    {
      "cell_type": "code",
      "execution_count": 1,
      "metadata": {},
      "outputs": [],
      "source": [
        "#Manhattan and Euclidean distance generalised into Minkowski distance\n",
        "def minkowski_distance(a, b, p):\n",
        "    \"\"\"\n",
        "    Args:\n",
        "      a (D) : a data point in numpy array of dimension D\n",
        "      b (D) : a data point in numpy array of dimension D\n",
        "      p     : distance order\n",
        "    Returns:\n",
        "      dis(float): the Minkowski distance between the two data points\n",
        "    \"\"\"\n",
        "    dis = 0\n",
        "    c = np.abs(a - b)\n",
        "    dis = np.linalg.norm(c, ord = p)\n",
        "\n",
        "    return dis"
      ]
    },
    {
      "cell_type": "code",
      "execution_count": 2,
      "metadata": {},
      "outputs": [],
      "source": [
        "#Find k nearest neighbours\n",
        "def find_kNN_labels(distances, labels, k):\n",
        "    \"\"\"\n",
        "    Args:\n",
        "      distances (m,) : a numpy array of dimension m that contains the distances between the test data point and all training data points\n",
        "      labels (m,) : a list of length m that contains the labels of all training data points\n",
        "      k: the number of nearest neighbors\n",
        "    Returns:\n",
        "      knn_labels (k,): the labels of the k nearest neighbors\n",
        "    \"\"\"\n",
        "\n",
        "    knn_labels = []\n",
        "  \n",
        "    sorted_indices = np.argsort(distances)\n",
        "    k_indices = sorted_indices[:k]\n",
        "    knn_labels = [labels[i] for i in k_indices]\n",
        "    \n",
        "    return knn_labels\n",
        "\n"
      ]
    },
    {
      "cell_type": "code",
      "execution_count": 3,
      "metadata": {},
      "outputs": [],
      "source": [
        "#Find majority class\n",
        "def get_majority_class(labels):\n",
        "    \"\"\"\n",
        "    Args:\n",
        "      labels(m): The corresponding labels of current sub-dataset\n",
        "          m: num_rows\n",
        "    Returns:\n",
        "      major: Type:String. The major class of this sub-dataset(e.g \"Good Wine\" or \"Not Good\")\n",
        "    \"\"\"\n",
        "    major = \"\"\n",
        "\n",
        "    # freq will store the number of occurences of the target labels\n",
        "    freq = {}\n",
        "    for entry in labels:\n",
        "        if (entry in freq):\n",
        "            freq[entry] += 1.0\n",
        "        else:\n",
        "            freq[entry] = 1.0\n",
        "\n",
        "    major = \"\"\n",
        "  \n",
        "    max_freq = 0\n",
        "    for entry, frequency in freq.items():\n",
        "      if frequency > max_freq:\n",
        "        major = entry\n",
        "        max_freq = frequency\n",
        " \n",
        "    return major"
      ]
    }
  ],
  "metadata": {
    "colab": {
      "collapsed_sections": [
        "BgatFWZ9HLK3"
      ],
      "provenance": [],
      "toc_visible": true
    },
    "kernelspec": {
      "display_name": "Python 3",
      "name": "python3"
    },
    "language_info": {
      "codemirror_mode": {
        "name": "ipython",
        "version": 3
      },
      "file_extension": ".py",
      "mimetype": "text/x-python",
      "name": "python",
      "nbconvert_exporter": "python",
      "pygments_lexer": "ipython3",
      "version": "3.12.2"
    }
  },
  "nbformat": 4,
  "nbformat_minor": 0
}
