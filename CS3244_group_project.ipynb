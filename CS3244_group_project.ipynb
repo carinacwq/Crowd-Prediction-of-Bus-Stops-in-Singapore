{
  "nbformat": 4,
  "nbformat_minor": 0,
  "metadata": {
    "colab": {
      "provenance": [],
      "collapsed_sections": [
        "BgatFWZ9HLK3"
      ],
      "toc_visible": true
    },
    "kernelspec": {
      "name": "python3",
      "display_name": "Python 3"
    },
    "language_info": {
      "name": "python"
    }
  },
  "cells": [
    {
      "cell_type": "code",
      "source": [
        "# Libraries\n",
        "import requests\n",
        "import pandas as pd\n",
        "import numpy as np\n",
        "import matplotlib.pyplot as plt"
      ],
      "metadata": {
        "id": "HTavD6H-yzRz"
      },
      "execution_count": null,
      "outputs": []
    },
    {
      "cell_type": "markdown",
      "source": [
        "# Data Collection"
      ],
      "metadata": {
        "id": "BgatFWZ9HLK3"
      }
    },
    {
      "cell_type": "markdown",
      "source": [
        "## Web Scraping API for Passenger Volume by Bus Stops data: DO NOT RUN"
      ],
      "metadata": {
        "id": "dMGDELDw7CO8"
      }
    },
    {
      "cell_type": "code",
      "execution_count": null,
      "metadata": {
        "id": "_etDp3xm3ZvC"
      },
      "outputs": [],
      "source": [
        "import requests\n",
        "import pandas as pd\n",
        "\n",
        "# Passenger volume: produces link to download csv\n",
        "base_url = \"http://datamall2.mytransport.sg/ltaodataservice\"\n",
        "endpoint = \"/PV/Bus\"\n",
        "resource_url = base_url + endpoint\n",
        "last_3_months = ['202402', '202401', '202312']\n",
        "for month in last_3_months:\n",
        "    query_params = {'Date': month}\n",
        "    # Request data from the server\n",
        "    res = requests.get(resource_url, headers={\"AccountKey\": LTA_KEY, \"accept\": \"application/json\"}, params=query_params)\n",
        "    res_list = res.json()\n",
        "    print(res_list[1])\n",
        "\n",
        "  # Combining downloaded passenger volume data\n",
        "df1 = pd.read_csv(\"../data/transport_node_bus_202402.csv\")\n",
        "df2 = pd.read_csv(\"../data/transport_node_bus_202401.csv\")\n",
        "df3 = pd.read_csv(\"../data/transport_node_bus_202312.csv\")\n",
        "pv_df = pd.concat([df1, df2, df3])\n",
        "\n",
        "pv_df['PT_CODE'] = pv_df['PT_CODE'].apply(lambda x: '{:05d}'.format(x))\n",
        "\n",
        "#save as csv file\n",
        "pv_df.to_csv(\"pv.csv\", index=False)"
      ]
    },
    {
      "cell_type": "markdown",
      "source": [
        "## Web Scraping API for Bus Stops location data: DO NOT RUN"
      ],
      "metadata": {
        "id": "l3hY4wvge0C-"
      }
    },
    {
      "cell_type": "code",
      "source": [
        "import requests\n",
        "import pandas as pd\n",
        "\n",
        "# bus stops\n",
        "base_url = \"http://datamall2.mytransport.sg/ltaodataservice\"\n",
        "endpoint_url1 = \"/BusStops\"\n",
        "endpoint_url2 = \"/BusStops?$skip=500\"\n",
        "endpoint_url3 = \"/BusStops?$skip=1000\"\n",
        "endpoint_url4 = \"/BusStops?$skip=1500\"\n",
        "endpoint_url5 = \"/BusStops?$skip=2000\"\n",
        "endpoint_url6 = \"/BusStops?$skip=2500\"\n",
        "endpoint_url7 = \"/BusStops?$skip=3000\"\n",
        "endpoint_url8 = \"/BusStops?$skip=3500\"\n",
        "endpoint_url9 = \"/BusStops?$skip=4000\"\n",
        "endpoint_url10 = \"/BusStops?$skip=4500\"\n",
        "endpoint_url11 = \"/BusStops?$skip=5000\"\n",
        "\n",
        "endpoints = [endpoint_url1, endpoint_url2, endpoint_url3, endpoint_url4, endpoint_url5, endpoint_url6, endpoint_url7, endpoint_url8, endpoint_url9, endpoint_url10, endpoint_url11]\n"
      ],
      "metadata": {
        "id": "s9ma_Gl_CxA3"
      },
      "execution_count": null,
      "outputs": []
    },
    {
      "cell_type": "code",
      "source": [
        "busstops = []\n",
        "\n",
        "for endpoint in endpoints:\n",
        "    resource_url = base_url + endpoint\n",
        "    # Request data from the server\n",
        "    res = requests.get(resource_url, headers={\"AccountKey\": \"7hrdcp4vQ0inFGn4IwWHQw==\", \"accept\": \"application/json\"})\n",
        "    res_list = res.json()\n",
        "    df = pd.DataFrame(res_list['value'])\n",
        "    busstops.append(df)\n",
        "\n",
        "busstops_df = pd.concat(busstops, ignore_index=True)\n",
        "\n",
        "print(busstops_df)"
      ],
      "metadata": {
        "colab": {
          "base_uri": "https://localhost:8080/"
        },
        "id": "OoC6oOGrIQfW",
        "outputId": "b10a9922-4a50-4aee-8fbd-63568ce4672c"
      },
      "execution_count": null,
      "outputs": [
        {
          "output_type": "stream",
          "name": "stdout",
          "text": [
            "     BusStopCode           RoadName             Description  Latitude  \\\n",
            "0          01012        Victoria St     Hotel Grand Pacific  1.296848   \n",
            "1          01013        Victoria St         St. Joseph's Ch  1.297710   \n",
            "2          01019        Victoria St         Bras Basah Cplx  1.296990   \n",
            "3          01029      Nth Bridge Rd            Opp Natl Lib  1.296673   \n",
            "4          01039      Nth Bridge Rd              Bugis Cube  1.298208   \n",
            "...          ...                ...                     ...       ...   \n",
            "5101       99139  Changi Village Rd                   Blk 5  1.388195   \n",
            "5102       99161          Nicoll Dr   Bef Changi Beach CP 3  1.390262   \n",
            "5103       99171          Nicoll Dr       Changi Beach CP 2  1.391128   \n",
            "5104       99181      Telok Paku Rd  Bef S'pore Aviation Ac  1.387754   \n",
            "5105       99189      Telok Paku Rd      S'pore Aviation Ac  1.388414   \n",
            "\n",
            "       Longitude  \n",
            "0     103.852536  \n",
            "1     103.853225  \n",
            "2     103.853022  \n",
            "3     103.854414  \n",
            "4     103.855491  \n",
            "...          ...  \n",
            "5101  103.987234  \n",
            "5102  103.992957  \n",
            "5103  103.991021  \n",
            "5104  103.988503  \n",
            "5105  103.989716  \n",
            "\n",
            "[5106 rows x 5 columns]\n"
          ]
        }
      ]
    },
    {
      "cell_type": "markdown",
      "source": [
        "# Data Pre Processing"
      ],
      "metadata": {
        "id": "OyIzLL7DHTvT"
      }
    },
    {
      "cell_type": "code",
      "source": [
        "#load data locally\n",
        "pv_df = pd.read_csv(\"/content/pv.csv\")\n",
        "busstops_df = pd.read_csv(\"/content/busstops.csv\")\n",
        "print(pv_df.head(5))\n",
        "print(pv_df.info())\n",
        "print(busstops_df.head(5))\n",
        "print(busstops_df.info())\n",
        "# Based on the output, we know that our datasets have no Null values\n",
        "\n",
        "# Join both df\n",
        "pv_df['PT_CODE'] = pv_df['PT_CODE'].apply(lambda x: '{:05d}'.format(x))\n",
        "busstops_df['BusStopCode'] = busstops_df['BusStopCode'].apply(lambda x: '{:05d}'.format(x))\n",
        "merged_df = pv_df.merge(busstops_df, left_on='PT_CODE', right_on='BusStopCode', how='left')\n",
        "print(merged_df.head(10))\n",
        "print(merged_df.info())\n"
      ],
      "metadata": {
        "colab": {
          "base_uri": "https://localhost:8080/"
        },
        "id": "FYznNBTb_p67",
        "outputId": "8536c5c1-1804-48ed-e846-0d7c6ca4171d"
      },
      "execution_count": null,
      "outputs": [
        {
          "output_type": "stream",
          "name": "stdout",
          "text": [
            "  YEAR_MONTH          DAY_TYPE  TIME_PER_HOUR PT_TYPE  PT_CODE  \\\n",
            "0    2024-02  WEEKENDS/HOLIDAY           17.0     BUS    45379   \n",
            "1    2024-02           WEEKDAY           17.0     BUS    45379   \n",
            "2    2024-02           WEEKDAY           13.0     BUS    80051   \n",
            "3    2024-02  WEEKENDS/HOLIDAY           13.0     BUS    80051   \n",
            "4    2024-02           WEEKDAY           13.0     BUS     5319   \n",
            "\n",
            "   TOTAL_TAP_IN_VOLUME  TOTAL_TAP_OUT_VOLUME  \n",
            "0                  190                   120  \n",
            "1                  442                   470  \n",
            "2                 2873                  2873  \n",
            "3                 1473                  1403  \n",
            "4                  109                   540  \n",
            "<class 'pandas.core.frame.DataFrame'>\n",
            "RangeIndex: 597316 entries, 0 to 597315\n",
            "Data columns (total 7 columns):\n",
            " #   Column                Non-Null Count   Dtype  \n",
            "---  ------                --------------   -----  \n",
            " 0   YEAR_MONTH            597316 non-null  object \n",
            " 1   DAY_TYPE              597316 non-null  object \n",
            " 2   TIME_PER_HOUR         597293 non-null  float64\n",
            " 3   PT_TYPE               597316 non-null  object \n",
            " 4   PT_CODE               597316 non-null  int64  \n",
            " 5   TOTAL_TAP_IN_VOLUME   597316 non-null  int64  \n",
            " 6   TOTAL_TAP_OUT_VOLUME  597316 non-null  int64  \n",
            "dtypes: float64(1), int64(3), object(3)\n",
            "memory usage: 31.9+ MB\n",
            "None\n",
            "   BusStopCode       RoadName          Description  Latitude   Longitude\n",
            "0         1012    Victoria St  Hotel Grand Pacific  1.296848  103.852536\n",
            "1         1013    Victoria St      St. Joseph's Ch  1.297710  103.853225\n",
            "2         1019    Victoria St      Bras Basah Cplx  1.296990  103.853022\n",
            "3         1029  Nth Bridge Rd         Opp Natl Lib  1.296673  103.854414\n",
            "4         1039  Nth Bridge Rd           Bugis Cube  1.298208  103.855491\n",
            "<class 'pandas.core.frame.DataFrame'>\n",
            "RangeIndex: 5106 entries, 0 to 5105\n",
            "Data columns (total 5 columns):\n",
            " #   Column       Non-Null Count  Dtype  \n",
            "---  ------       --------------  -----  \n",
            " 0   BusStopCode  5106 non-null   int64  \n",
            " 1   RoadName     5106 non-null   object \n",
            " 2   Description  5106 non-null   object \n",
            " 3   Latitude     5106 non-null   float64\n",
            " 4   Longitude    5106 non-null   float64\n",
            "dtypes: float64(2), int64(1), object(2)\n",
            "memory usage: 199.6+ KB\n",
            "None\n",
            "  YEAR_MONTH          DAY_TYPE  TIME_PER_HOUR PT_TYPE PT_CODE  \\\n",
            "0    2024-02  WEEKENDS/HOLIDAY           17.0     BUS   45379   \n",
            "1    2024-02           WEEKDAY           17.0     BUS   45379   \n",
            "2    2024-02           WEEKDAY           13.0     BUS   80051   \n",
            "3    2024-02  WEEKENDS/HOLIDAY           13.0     BUS   80051   \n",
            "4    2024-02           WEEKDAY           13.0     BUS   05319   \n",
            "5    2024-02  WEEKENDS/HOLIDAY           13.0     BUS   05319   \n",
            "6    2024-02           WEEKDAY            7.0     BUS   46219   \n",
            "7    2024-02  WEEKENDS/HOLIDAY            7.0     BUS   46219   \n",
            "8    2024-02           WEEKDAY            1.0     BUS   64397   \n",
            "9    2024-02  WEEKENDS/HOLIDAY            1.0     BUS   64397   \n",
            "\n",
            "   TOTAL_TAP_IN_VOLUME  TOTAL_TAP_OUT_VOLUME BusStopCode             RoadName  \\\n",
            "0                  190                   120       45379  Choa Chu Kang Nth 6   \n",
            "1                  442                   470       45379  Choa Chu Kang Nth 6   \n",
            "2                 2873                  2873       80051             Sims Ave   \n",
            "3                 1473                  1403       80051             Sims Ave   \n",
            "4                  109                   540       05319            Church St   \n",
            "5                   12                    91       05319            Church St   \n",
            "6                21428                  1190       46219          Johor Bahru   \n",
            "7                 5107                   361       46219          Johor Bahru   \n",
            "8                    4                    26       64397       Hougang Ave 10   \n",
            "9                    2                    13       64397       Hougang Ave 10   \n",
            "\n",
            "           Description  Latitude   Longitude  \n",
            "0  Yew Mei Green Condo  1.394694  103.751873  \n",
            "1  Yew Mei Green Condo  1.394694  103.751873  \n",
            "2    Aft Lor 1 Geylang  1.312515  103.873262  \n",
            "3    Aft Lor 1 Geylang  1.312515  103.873262  \n",
            "4             OCBC Ctr  1.284437  103.849114  \n",
            "5             OCBC Ctr  1.284437  103.849114  \n",
            "6  Johor Bahru Checkpt  1.465427  103.768267  \n",
            "7  Johor Bahru Checkpt  1.465427  103.768267  \n",
            "8            Block 513  1.371948  103.890003  \n",
            "9            Block 513  1.371948  103.890003  \n",
            "<class 'pandas.core.frame.DataFrame'>\n",
            "Int64Index: 597316 entries, 0 to 597315\n",
            "Data columns (total 12 columns):\n",
            " #   Column                Non-Null Count   Dtype  \n",
            "---  ------                --------------   -----  \n",
            " 0   YEAR_MONTH            597316 non-null  object \n",
            " 1   DAY_TYPE              597316 non-null  object \n",
            " 2   TIME_PER_HOUR         597293 non-null  float64\n",
            " 3   PT_TYPE               597316 non-null  object \n",
            " 4   PT_CODE               597316 non-null  object \n",
            " 5   TOTAL_TAP_IN_VOLUME   597316 non-null  int64  \n",
            " 6   TOTAL_TAP_OUT_VOLUME  597316 non-null  int64  \n",
            " 7   BusStopCode           597276 non-null  object \n",
            " 8   RoadName              597276 non-null  object \n",
            " 9   Description           597276 non-null  object \n",
            " 10  Latitude              597276 non-null  float64\n",
            " 11  Longitude             597276 non-null  float64\n",
            "dtypes: float64(3), int64(2), object(7)\n",
            "memory usage: 59.2+ MB\n",
            "None\n"
          ]
        }
      ]
    },
    {
      "cell_type": "code",
      "source": [
        "# Dealing with Null\n",
        "null_df=merged_df[merged_df.isnull().any(axis=1)]\n",
        "# print(null_df)\n",
        "\n",
        "# Upon research, PT_CODE 65139 has been removed since Dec 23' due to route admendment\n",
        "# Remove rows with PT_CODE 65139 and assign results back to original df\n",
        "merged_df = merged_df.drop(merged_df[merged_df['PT_CODE'] == '65139'].index)\n",
        "print(merged_df.info())"
      ],
      "metadata": {
        "colab": {
          "base_uri": "https://localhost:8080/"
        },
        "id": "HPp5Qcrtuiir",
        "outputId": "56b0eb74-078c-43bb-9b88-80a838d2575f"
      },
      "execution_count": null,
      "outputs": [
        {
          "output_type": "stream",
          "name": "stdout",
          "text": [
            "<class 'pandas.core.frame.DataFrame'>\n",
            "Int64Index: 597276 entries, 0 to 597315\n",
            "Data columns (total 12 columns):\n",
            " #   Column                Non-Null Count   Dtype  \n",
            "---  ------                --------------   -----  \n",
            " 0   YEAR_MONTH            597276 non-null  object \n",
            " 1   DAY_TYPE              597276 non-null  object \n",
            " 2   TIME_PER_HOUR         597253 non-null  float64\n",
            " 3   PT_TYPE               597276 non-null  object \n",
            " 4   PT_CODE               597276 non-null  object \n",
            " 5   TOTAL_TAP_IN_VOLUME   597276 non-null  int64  \n",
            " 6   TOTAL_TAP_OUT_VOLUME  597276 non-null  int64  \n",
            " 7   BusStopCode           597276 non-null  object \n",
            " 8   RoadName              597276 non-null  object \n",
            " 9   Description           597276 non-null  object \n",
            " 10  Latitude              597276 non-null  float64\n",
            " 11  Longitude             597276 non-null  float64\n",
            "dtypes: float64(3), int64(2), object(7)\n",
            "memory usage: 59.2+ MB\n",
            "None\n"
          ]
        }
      ]
    }
  ]
}